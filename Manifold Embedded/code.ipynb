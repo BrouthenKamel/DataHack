{
 "cells": [
  {
   "cell_type": "code",
   "execution_count": 84,
   "metadata": {},
   "outputs": [],
   "source": [
    "import numpy as np\n",
    "import pandas as pd\n",
    "\n",
    "import matplotlib.pyplot as plt\n",
    "\n",
    "from sklearn.decomposition import PCA"
   ]
  },
  {
   "cell_type": "code",
   "execution_count": 85,
   "metadata": {},
   "outputs": [],
   "source": [
    "file_path = 'file.npz'\n",
    "\n",
    "data = np.load(file_path)\n",
    "\n",
    "tokens = data['tokens']\n",
    "embeddings = data['embeddings']\n",
    "\n",
    "tokens_str = '!!\"\"##$$%%&&\\'\\'(())**++,,--..//00112233445566778899::;;<<==>>??@@AABBCCDDEEFFGGHHIIJJKKLLMMNNOOPPQQRRSSTTUUVVWWXXYYZZ[[\\\\\\\\]]^^__``aabbccddeeffgghhiijjkkllmmnnooppqqrrssttuuvvwwxxyyzz{{||}}~~'\n",
    "tokens = list(tokens_str)\n",
    "\n",
    "data.close()"
   ]
  },
  {
   "cell_type": "code",
   "execution_count": 86,
   "metadata": {},
   "outputs": [
    {
     "data": {
      "text/plain": [
       "(188, 512)"
      ]
     },
     "execution_count": 86,
     "metadata": {},
     "output_type": "execute_result"
    }
   ],
   "source": [
    "embeddings.shape"
   ]
  },
  {
   "cell_type": "code",
   "execution_count": 92,
   "metadata": {},
   "outputs": [],
   "source": [
    "def get_flag(tokens, embeddings, title='random', show=False):\n",
    "    \n",
    "    pca = PCA(n_components=2)\n",
    "    embeddings_pca = pca.fit_transform(embeddings)\n",
    "\n",
    "    if show:\n",
    "        plt.scatter(embeddings_pca[:, 0], embeddings_pca[:, 1])\n",
    "        plt.title('PCA Visualization of Embeddings')\n",
    "        plt.savefig(f'{title}.png') \n",
    "        plt.show()\n",
    "    \n",
    "    df = pd.DataFrame({\n",
    "        'tokens': tokens,\n",
    "    })\n",
    "\n",
    "    df['distance_from_origin'] = np.sqrt(embeddings_pca[:, 0]**2 + embeddings_pca[:, 1]**2)\n",
    "    df_sorted = df.sort_values(by='distance_from_origin')\n",
    "    reordered_tokens = df_sorted['tokens'].tolist()\n",
    "\n",
    "    flag = ''.join(reordered_tokens)\n",
    "    print(flag)\n",
    "    return flag"
   ]
  },
  {
   "cell_type": "code",
   "execution_count": 93,
   "metadata": {},
   "outputs": [
    {
     "name": "stdout",
     "output_type": "stream",
     "text": [
      "FLAG{TURNED}0123456789abcdefghijklmnopqrstuvwxIHyJCBzKMOPQSVWXYZ!\"#$%&'()*+,-./:;<=>?@[\\]^_`|~0123456789abcdefghijklmnopqrstuvwxyzABCDEFGHIJKLMNOPQRSTUVWXYZ!\"#$%&'()*+,-./:;<=>?@[\\]^_`{|}~\n"
     ]
    }
   ],
   "source": [
    "flag = get_flag(tokens, embeddings, 'flag')"
   ]
  },
  {
   "cell_type": "code",
   "execution_count": 57,
   "metadata": {},
   "outputs": [],
   "source": [
    "df = pd.DataFrame({\n",
    "    'ID': [1],\n",
    "    'Flag': [flag]\n",
    "})\n",
    "\n",
    "df.to_csv('flag.csv', index=False)"
   ]
  }
 ],
 "metadata": {
  "kernelspec": {
   "display_name": "ai_env_py3_9",
   "language": "python",
   "name": "python3"
  },
  "language_info": {
   "codemirror_mode": {
    "name": "ipython",
    "version": 3
   },
   "file_extension": ".py",
   "mimetype": "text/x-python",
   "name": "python",
   "nbconvert_exporter": "python",
   "pygments_lexer": "ipython3",
   "version": "3.9.16"
  }
 },
 "nbformat": 4,
 "nbformat_minor": 2
}
