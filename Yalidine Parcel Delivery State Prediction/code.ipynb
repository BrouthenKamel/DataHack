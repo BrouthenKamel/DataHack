{
 "cells": [
  {
   "cell_type": "markdown",
   "metadata": {},
   "source": [
    "# modules"
   ]
  },
  {
   "cell_type": "code",
   "execution_count": 1,
   "metadata": {},
   "outputs": [],
   "source": [
    "import math\n",
    "import json\n",
    "\n",
    "import numpy as np\n",
    "import pandas as pd\n",
    "\n",
    "import matplotlib.pyplot as plt\n",
    "\n",
    "from sklearn.feature_selection import SelectKBest, f_classif\n",
    "from sklearn.model_selection import cross_val_score, train_test_split, GridSearchCV\n",
    "from sklearn.metrics import accuracy_score\n",
    "\n",
    "from sklearn.ensemble import RandomForestClassifier\n",
    "\n",
    "from lazypredict.Supervised import LazyClassifier\n",
    "\n",
    "from sklearn.ensemble import VotingClassifier\n",
    "from sklearn.ensemble import RandomForestClassifier, AdaBoostClassifier, BaggingClassifier, GradientBoostingClassifier, StackingClassifier\n",
    "from xgboost import XGBClassifier\n",
    "from lightgbm import LGBMClassifier\n",
    "from catboost import CatBoostClassifier\n",
    "from sklearn.svm import SVC\n",
    "from sklearn.linear_model import LogisticRegression\n",
    "\n",
    "from sklearn.preprocessing import LabelEncoder\n",
    "\n",
    "import xgboost as xgb\n",
    "from sklearn.metrics import accuracy_score, classification_report\n",
    "from imblearn.under_sampling import RandomUnderSampler\n",
    "from imblearn.over_sampling import SMOTE\n",
    "from sklearn.utils.class_weight import compute_sample_weight\n",
    "from sklearn.model_selection import train_test_split\n",
    "\n",
    "from sklearn.model_selection import GridSearchCV\n",
    "\n"
   ]
  },
  {
   "cell_type": "markdown",
   "metadata": {},
   "source": [
    "# utils"
   ]
  },
  {
   "cell_type": "code",
   "execution_count": 2,
   "metadata": {},
   "outputs": [],
   "source": [
    "def haversine_formula(row):\n",
    "    earth_radius_km = 6371.0\n",
    "    lat1_rad = math.radians(row['lat1'])\n",
    "    lat2_rad = math.radians(row['lat2'])\n",
    "    dlat = lat2_rad - lat1_rad\n",
    "    dlon = math.radians(row['lon2'] - row['lon1'])\n",
    "\n",
    "    a = math.sin(dlat / 2)**2 + math.cos(lat1_rad) * math.cos(lat2_rad) * math.sin(dlon / 2)**2\n",
    "    c = 2 * math.atan2(math.sqrt(a), math.sqrt(1 - a))\n",
    "\n",
    "    distance_km = earth_radius_km * c\n",
    "    return distance_km"
   ]
  },
  {
   "cell_type": "code",
   "execution_count": 3,
   "metadata": {},
   "outputs": [],
   "source": [
    "with open('./location.json', 'r') as f:\n",
    "    location = json.load(f)"
   ]
  },
  {
   "cell_type": "markdown",
   "metadata": {},
   "source": [
    "# data"
   ]
  },
  {
   "cell_type": "markdown",
   "metadata": {},
   "source": [
    "## load"
   ]
  },
  {
   "cell_type": "code",
   "execution_count": 4,
   "metadata": {},
   "outputs": [],
   "source": [
    "df_train = pd.read_csv('./data/train_data.csv')\n",
    "df_test = pd.read_csv('./data/test.csv')"
   ]
  },
  {
   "cell_type": "markdown",
   "metadata": {},
   "source": [
    "## explore"
   ]
  },
  {
   "cell_type": "code",
   "execution_count": 6,
   "metadata": {},
   "outputs": [
    {
     "data": {
      "text/html": [
       "<div>\n",
       "<style scoped>\n",
       "    .dataframe tbody tr th:only-of-type {\n",
       "        vertical-align: middle;\n",
       "    }\n",
       "\n",
       "    .dataframe tbody tr th {\n",
       "        vertical-align: top;\n",
       "    }\n",
       "\n",
       "    .dataframe thead th {\n",
       "        text-align: right;\n",
       "    }\n",
       "</style>\n",
       "<table border=\"1\" class=\"dataframe\">\n",
       "  <thead>\n",
       "    <tr style=\"text-align: right;\">\n",
       "      <th></th>\n",
       "      <th>Tracking</th>\n",
       "      <th>expedition</th>\n",
       "      <th>tentative</th>\n",
       "      <th>livraison/échec</th>\n",
       "      <th>statut</th>\n",
       "      <th>ID expediteur</th>\n",
       "      <th>depart commune</th>\n",
       "      <th>depart wilaya</th>\n",
       "      <th>stop desk?</th>\n",
       "      <th>destination commune</th>\n",
       "      <th>destination wilaya</th>\n",
       "      <th>label</th>\n",
       "    </tr>\n",
       "  </thead>\n",
       "  <tbody>\n",
       "    <tr>\n",
       "      <th>0</th>\n",
       "      <td>yal-ABC240400</td>\n",
       "      <td>2024-01-10 18:18:53</td>\n",
       "      <td>2024-01-12 16:46:52</td>\n",
       "      <td>2024-01-12 16:46:52</td>\n",
       "      <td>2024-01-12 16:46:52</td>\n",
       "      <td>expyal-11571</td>\n",
       "      <td>Oued Smar</td>\n",
       "      <td>Alger</td>\n",
       "      <td>oui</td>\n",
       "      <td>El Menia</td>\n",
       "      <td>Ghardaïa</td>\n",
       "      <td>Livré</td>\n",
       "    </tr>\n",
       "  </tbody>\n",
       "</table>\n",
       "</div>"
      ],
      "text/plain": [
       "        Tracking           expedition            tentative  \\\n",
       "0  yal-ABC240400  2024-01-10 18:18:53  2024-01-12 16:46:52   \n",
       "\n",
       "       livraison/échec               statut ID expediteur depart commune  \\\n",
       "0  2024-01-12 16:46:52  2024-01-12 16:46:52  expyal-11571      Oued Smar   \n",
       "\n",
       "  depart wilaya stop desk? destination commune destination wilaya  label  \n",
       "0         Alger        oui            El Menia           Ghardaïa  Livré  "
      ]
     },
     "execution_count": 6,
     "metadata": {},
     "output_type": "execute_result"
    }
   ],
   "source": [
    "df_train.head(1)"
   ]
  },
  {
   "cell_type": "code",
   "execution_count": 7,
   "metadata": {},
   "outputs": [
    {
     "name": "stdout",
     "output_type": "stream",
     "text": [
      "<class 'pandas.core.frame.DataFrame'>\n",
      "RangeIndex: 271481 entries, 0 to 271480\n",
      "Data columns (total 12 columns):\n",
      " #   Column               Non-Null Count   Dtype \n",
      "---  ------               --------------   ----- \n",
      " 0   Tracking             271481 non-null  object\n",
      " 1   expedition           271481 non-null  object\n",
      " 2   tentative            270360 non-null  object\n",
      " 3   livraison/échec      270332 non-null  object\n",
      " 4   statut               271481 non-null  object\n",
      " 5   ID expediteur        271481 non-null  object\n",
      " 6   depart commune       271481 non-null  object\n",
      " 7   depart wilaya        271481 non-null  object\n",
      " 8   stop desk?           271481 non-null  object\n",
      " 9   destination commune  271481 non-null  object\n",
      " 10  destination wilaya   271481 non-null  object\n",
      " 11  label                271481 non-null  object\n",
      "dtypes: object(12)\n",
      "memory usage: 24.9+ MB\n"
     ]
    }
   ],
   "source": [
    "df_train.info()"
   ]
  },
  {
   "cell_type": "code",
   "execution_count": 8,
   "metadata": {},
   "outputs": [
    {
     "data": {
      "text/html": [
       "<div>\n",
       "<style scoped>\n",
       "    .dataframe tbody tr th:only-of-type {\n",
       "        vertical-align: middle;\n",
       "    }\n",
       "\n",
       "    .dataframe tbody tr th {\n",
       "        vertical-align: top;\n",
       "    }\n",
       "\n",
       "    .dataframe thead th {\n",
       "        text-align: right;\n",
       "    }\n",
       "</style>\n",
       "<table border=\"1\" class=\"dataframe\">\n",
       "  <thead>\n",
       "    <tr style=\"text-align: right;\">\n",
       "      <th></th>\n",
       "      <th>Tracking</th>\n",
       "      <th>expedition</th>\n",
       "      <th>tentative</th>\n",
       "      <th>livraison/échec</th>\n",
       "      <th>statut</th>\n",
       "      <th>ID expediteur</th>\n",
       "      <th>depart commune</th>\n",
       "      <th>depart wilaya</th>\n",
       "      <th>stop desk?</th>\n",
       "      <th>destination commune</th>\n",
       "      <th>destination wilaya</th>\n",
       "      <th>label</th>\n",
       "    </tr>\n",
       "  </thead>\n",
       "  <tbody>\n",
       "    <tr>\n",
       "      <th>count</th>\n",
       "      <td>271481</td>\n",
       "      <td>271481</td>\n",
       "      <td>270360</td>\n",
       "      <td>270332</td>\n",
       "      <td>271481</td>\n",
       "      <td>271481</td>\n",
       "      <td>271481</td>\n",
       "      <td>271481</td>\n",
       "      <td>271481</td>\n",
       "      <td>271481</td>\n",
       "      <td>271481</td>\n",
       "      <td>271481</td>\n",
       "    </tr>\n",
       "    <tr>\n",
       "      <th>unique</th>\n",
       "      <td>271481</td>\n",
       "      <td>42188</td>\n",
       "      <td>153353</td>\n",
       "      <td>194983</td>\n",
       "      <td>184807</td>\n",
       "      <td>15512</td>\n",
       "      <td>116</td>\n",
       "      <td>48</td>\n",
       "      <td>2</td>\n",
       "      <td>1365</td>\n",
       "      <td>48</td>\n",
       "      <td>12</td>\n",
       "    </tr>\n",
       "    <tr>\n",
       "      <th>top</th>\n",
       "      <td>yal-ABC240400</td>\n",
       "      <td>2024-01-08 15:10:17</td>\n",
       "      <td>2024-01-12 00:03:28</td>\n",
       "      <td>2024-01-15 11:54:57</td>\n",
       "      <td>2024-01-20 17:34:41</td>\n",
       "      <td>expyal-17226</td>\n",
       "      <td>Oued Smar</td>\n",
       "      <td>Alger</td>\n",
       "      <td>oui</td>\n",
       "      <td>Constantine</td>\n",
       "      <td>Alger</td>\n",
       "      <td>Livré</td>\n",
       "    </tr>\n",
       "    <tr>\n",
       "      <th>freq</th>\n",
       "      <td>1</td>\n",
       "      <td>354</td>\n",
       "      <td>30</td>\n",
       "      <td>18</td>\n",
       "      <td>703</td>\n",
       "      <td>17384</td>\n",
       "      <td>58347</td>\n",
       "      <td>115959</td>\n",
       "      <td>144903</td>\n",
       "      <td>9204</td>\n",
       "      <td>31955</td>\n",
       "      <td>236293</td>\n",
       "    </tr>\n",
       "  </tbody>\n",
       "</table>\n",
       "</div>"
      ],
      "text/plain": [
       "             Tracking           expedition            tentative  \\\n",
       "count          271481               271481               270360   \n",
       "unique         271481                42188               153353   \n",
       "top     yal-ABC240400  2024-01-08 15:10:17  2024-01-12 00:03:28   \n",
       "freq                1                  354                   30   \n",
       "\n",
       "            livraison/échec               statut ID expediteur depart commune  \\\n",
       "count                270332               271481        271481         271481   \n",
       "unique               194983               184807         15512            116   \n",
       "top     2024-01-15 11:54:57  2024-01-20 17:34:41  expyal-17226      Oued Smar   \n",
       "freq                     18                  703         17384          58347   \n",
       "\n",
       "       depart wilaya stop desk? destination commune destination wilaya   label  \n",
       "count         271481     271481              271481             271481  271481  \n",
       "unique            48          2                1365                 48      12  \n",
       "top            Alger        oui         Constantine              Alger   Livré  \n",
       "freq          115959     144903                9204              31955  236293  "
      ]
     },
     "execution_count": 8,
     "metadata": {},
     "output_type": "execute_result"
    }
   ],
   "source": [
    "df_train.describe()"
   ]
  },
  {
   "cell_type": "markdown",
   "metadata": {},
   "source": [
    "## preprocessing"
   ]
  },
  {
   "cell_type": "markdown",
   "metadata": {},
   "source": [
    "### time"
   ]
  },
  {
   "cell_type": "code",
   "execution_count": 5,
   "metadata": {},
   "outputs": [],
   "source": [
    "times = ['expedition', 'tentative', 'livraison/échec', 'statut']\n",
    "\n",
    "for t in times:\n",
    "    df_train[t] = pd.to_datetime(df_train[t])\n",
    "    df_test[t] = pd.to_datetime(df_test[t])\n",
    "    \n",
    "    if t == 'expedition':\n",
    "        df_train[t + '_year'] = pd.to_datetime(df_train[t]).dt.year\n",
    "        df_test[t + '_year'] = pd.to_datetime(df_test[t]).dt.year\n",
    "        df_train[t + '_month'] = pd.to_datetime(df_train[t]).dt.month\n",
    "        df_test[t + '_month'] = pd.to_datetime(df_test[t]).dt.month\n",
    "        df_train[t + '_day'] = pd.to_datetime(df_train[t]).dt.day\n",
    "        df_test[t + '_day'] = pd.to_datetime(df_test[t]).dt.day\n",
    "        df_train[t + '_hour'] = pd.to_datetime(df_train[t]).dt.hour\n",
    "        df_test[t + '_hour'] = pd.to_datetime(df_test[t]).dt.hour\n",
    "    else:\n",
    "        df_train[t + '_duration'] = (df_train[t] - df_train['expedition']).dt.total_seconds() / (24*60*60)\n",
    "        df_test[t + '_duration'] = (df_test[t] - df_test['expedition']).dt.total_seconds()  / (24*60*60)"
   ]
  },
  {
   "cell_type": "markdown",
   "metadata": {},
   "source": [
    "### distance"
   ]
  },
  {
   "cell_type": "code",
   "execution_count": 6,
   "metadata": {},
   "outputs": [],
   "source": [
    "df_train['lat1'] = df_train['depart wilaya'].map(lambda x: location[x]['lat'])\n",
    "df_train['lat2'] = df_train['destination wilaya'].map(lambda x: location[x]['lat'])\n",
    "df_train['lon1'] = df_train['depart wilaya'].map(lambda x: location[x]['lon'])\n",
    "df_train['lon2'] = df_train['destination wilaya'].map(lambda x: location[x]['lon'])\n",
    "\n",
    "df_test['lat1'] = df_test['depart wilaya'].map(lambda x: location[x]['lat'])\n",
    "df_test['lat2'] = df_test['destination wilaya'].map(lambda x: location[x]['lat'])\n",
    "df_test['lon1'] = df_test['depart wilaya'].map(lambda x: location[x]['lon'])\n",
    "df_test['lon2'] = df_test['destination wilaya'].map(lambda x: location[x]['lon'])\n",
    "\n",
    "df_train['distance'] = df_train.apply(haversine_formula, axis=1)\n",
    "df_test['distance'] = df_test.apply(haversine_formula, axis=1)"
   ]
  },
  {
   "cell_type": "markdown",
   "metadata": {},
   "source": [
    "### reduce"
   ]
  },
  {
   "cell_type": "code",
   "execution_count": 7,
   "metadata": {},
   "outputs": [
    {
     "data": {
      "text/plain": [
       "Index(['Tracking', 'expedition', 'tentative', 'livraison/échec', 'statut',\n",
       "       'ID expediteur', 'depart commune', 'depart wilaya', 'stop desk?',\n",
       "       'destination commune', 'destination wilaya', 'label', 'expedition_year',\n",
       "       'expedition_month', 'expedition_day', 'expedition_hour',\n",
       "       'tentative_duration', 'livraison/échec_duration', 'statut_duration',\n",
       "       'lat1', 'lat2', 'lon1', 'lon2', 'distance'],\n",
       "      dtype='object')"
      ]
     },
     "execution_count": 7,
     "metadata": {},
     "output_type": "execute_result"
    }
   ],
   "source": [
    "df_train.columns"
   ]
  },
  {
   "cell_type": "code",
   "execution_count": 8,
   "metadata": {},
   "outputs": [],
   "source": [
    "features = ['ID expediteur', 'depart wilaya', 'destination wilaya', 'stop desk?',\n",
    "       'expedition_month', 'expedition_day', 'expedition_hour',\n",
    "       'tentative_duration', 'livraison/échec_duration', 'statut_duration',\n",
    "       'distance']"
   ]
  },
  {
   "cell_type": "code",
   "execution_count": 9,
   "metadata": {},
   "outputs": [],
   "source": [
    "df_train = df_train[features + ['label']]\n",
    "df_test = df_test[features]"
   ]
  },
  {
   "cell_type": "markdown",
   "metadata": {},
   "source": [
    "### wilaya"
   ]
  },
  {
   "cell_type": "code",
   "execution_count": 10,
   "metadata": {},
   "outputs": [],
   "source": [
    "df_train['depart wilaya'] = df_train['depart wilaya'].map(lambda x: location[x]['pos'])\n",
    "df_train['destination wilaya'] = df_train['destination wilaya'].map(lambda x: location[x]['pos'])\n",
    "\n",
    "df_test['depart wilaya'] = df_test['depart wilaya'].map(lambda x: location[x]['pos'])\n",
    "df_test['destination wilaya'] = df_test['destination wilaya'].map(lambda x: location[x]['pos'])\n",
    "\n",
    "df_train_encoded = pd.get_dummies(df_train['depart wilaya'], prefix='depart_wilaya')\n",
    "df_train = pd.concat([df_train, df_train_encoded], axis=1)\n",
    "df_train = df_train.drop('depart wilaya', axis=1)\n",
    "\n",
    "df_test_encoded = pd.get_dummies(df_test['depart wilaya'], prefix='depart_wilaya')\n",
    "df_test = pd.concat([df_test, df_test_encoded], axis=1)\n",
    "df_test = df_test.drop('depart wilaya', axis=1)\n",
    "\n",
    "df_train_encoded = pd.get_dummies(df_train['destination wilaya'], prefix='destination_wilaya')\n",
    "df_train = pd.concat([df_train, df_train_encoded], axis=1)\n",
    "df_train = df_train.drop('destination wilaya', axis=1)\n",
    "\n",
    "df_test_encoded = pd.get_dummies(df_test['destination wilaya'], prefix='destination_wilaya')\n",
    "df_test = pd.concat([df_test, df_test_encoded], axis=1)\n",
    "df_test = df_test.drop('destination wilaya', axis=1)"
   ]
  },
  {
   "cell_type": "markdown",
   "metadata": {},
   "source": [
    "### expediteur"
   ]
  },
  {
   "cell_type": "code",
   "execution_count": 11,
   "metadata": {},
   "outputs": [],
   "source": [
    "expediteurs = dict(df_train['ID expediteur'].value_counts())\n",
    "\n",
    "df_train['ID expediteur'] = df_train['ID expediteur'].map(expediteurs)\n",
    "df_test['ID expediteur'] = df_test['ID expediteur'].map(expediteurs)\n",
    "\n",
    "df_test['ID expediteur'].fillna(0, inplace=True)\n",
    "\n",
    "df_train.rename(columns={'ID expediteur': 'expediteur'}, inplace=True)\n",
    "df_test.rename(columns={'ID expediteur': 'expediteur'}, inplace=True)"
   ]
  },
  {
   "cell_type": "markdown",
   "metadata": {},
   "source": [
    "### stop desk"
   ]
  },
  {
   "cell_type": "code",
   "execution_count": 12,
   "metadata": {},
   "outputs": [],
   "source": [
    "df_train['stop desk?'].replace({\n",
    "    'oui': 1,\n",
    "    'non': 0\n",
    "}, inplace=True)\n",
    "\n",
    "df_test['stop desk?'].replace({\n",
    "    'oui': 1,\n",
    "    'non': 0\n",
    "}, inplace=True)\n",
    "\n",
    "df_train.rename(columns={'stop desk?': 'stop_desk'}, inplace=True)\n",
    "df_test.rename(columns={'stop desk?': 'stop_desk'}, inplace=True)"
   ]
  },
  {
   "cell_type": "markdown",
   "metadata": {},
   "source": [
    "### cleaning"
   ]
  },
  {
   "cell_type": "code",
   "execution_count": 13,
   "metadata": {},
   "outputs": [],
   "source": [
    "df_train['tentative_duration'].fillna(df_train['tentative_duration'].mean(), inplace=True)\n",
    "df_train['livraison/échec_duration'].fillna(df_train['livraison/échec_duration'].mean(), inplace=True)\n",
    "\n",
    "df_test['tentative_duration'].fillna(df_test['tentative_duration'].mean(), inplace=True)\n",
    "df_test['livraison/échec_duration'].fillna(df_test['livraison/échec_duration'].mean(), inplace=True)"
   ]
  },
  {
   "cell_type": "markdown",
   "metadata": {},
   "source": [
    "# X and Y"
   ]
  },
  {
   "cell_type": "code",
   "execution_count": 14,
   "metadata": {},
   "outputs": [],
   "source": [
    "y = df_train.label\n",
    "X = df_train.drop(columns=['label'])\n",
    "\n",
    "X_test = df_test"
   ]
  },
  {
   "cell_type": "code",
   "execution_count": 15,
   "metadata": {},
   "outputs": [],
   "source": [
    "encoder = LabelEncoder()\n",
    "y = encoder.fit_transform(y)"
   ]
  },
  {
   "cell_type": "markdown",
   "metadata": {},
   "source": [
    "# Training"
   ]
  },
  {
   "cell_type": "code",
   "execution_count": 36,
   "metadata": {},
   "outputs": [
    {
     "data": {
      "text/html": [
       "<style>#sk-container-id-1 {color: black;background-color: white;}#sk-container-id-1 pre{padding: 0;}#sk-container-id-1 div.sk-toggleable {background-color: white;}#sk-container-id-1 label.sk-toggleable__label {cursor: pointer;display: block;width: 100%;margin-bottom: 0;padding: 0.3em;box-sizing: border-box;text-align: center;}#sk-container-id-1 label.sk-toggleable__label-arrow:before {content: \"▸\";float: left;margin-right: 0.25em;color: #696969;}#sk-container-id-1 label.sk-toggleable__label-arrow:hover:before {color: black;}#sk-container-id-1 div.sk-estimator:hover label.sk-toggleable__label-arrow:before {color: black;}#sk-container-id-1 div.sk-toggleable__content {max-height: 0;max-width: 0;overflow: hidden;text-align: left;background-color: #f0f8ff;}#sk-container-id-1 div.sk-toggleable__content pre {margin: 0.2em;color: black;border-radius: 0.25em;background-color: #f0f8ff;}#sk-container-id-1 input.sk-toggleable__control:checked~div.sk-toggleable__content {max-height: 200px;max-width: 100%;overflow: auto;}#sk-container-id-1 input.sk-toggleable__control:checked~label.sk-toggleable__label-arrow:before {content: \"▾\";}#sk-container-id-1 div.sk-estimator input.sk-toggleable__control:checked~label.sk-toggleable__label {background-color: #d4ebff;}#sk-container-id-1 div.sk-label input.sk-toggleable__control:checked~label.sk-toggleable__label {background-color: #d4ebff;}#sk-container-id-1 input.sk-hidden--visually {border: 0;clip: rect(1px 1px 1px 1px);clip: rect(1px, 1px, 1px, 1px);height: 1px;margin: -1px;overflow: hidden;padding: 0;position: absolute;width: 1px;}#sk-container-id-1 div.sk-estimator {font-family: monospace;background-color: #f0f8ff;border: 1px dotted black;border-radius: 0.25em;box-sizing: border-box;margin-bottom: 0.5em;}#sk-container-id-1 div.sk-estimator:hover {background-color: #d4ebff;}#sk-container-id-1 div.sk-parallel-item::after {content: \"\";width: 100%;border-bottom: 1px solid gray;flex-grow: 1;}#sk-container-id-1 div.sk-label:hover label.sk-toggleable__label {background-color: #d4ebff;}#sk-container-id-1 div.sk-serial::before {content: \"\";position: absolute;border-left: 1px solid gray;box-sizing: border-box;top: 0;bottom: 0;left: 50%;z-index: 0;}#sk-container-id-1 div.sk-serial {display: flex;flex-direction: column;align-items: center;background-color: white;padding-right: 0.2em;padding-left: 0.2em;position: relative;}#sk-container-id-1 div.sk-item {position: relative;z-index: 1;}#sk-container-id-1 div.sk-parallel {display: flex;align-items: stretch;justify-content: center;background-color: white;position: relative;}#sk-container-id-1 div.sk-item::before, #sk-container-id-1 div.sk-parallel-item::before {content: \"\";position: absolute;border-left: 1px solid gray;box-sizing: border-box;top: 0;bottom: 0;left: 50%;z-index: -1;}#sk-container-id-1 div.sk-parallel-item {display: flex;flex-direction: column;z-index: 1;position: relative;background-color: white;}#sk-container-id-1 div.sk-parallel-item:first-child::after {align-self: flex-end;width: 50%;}#sk-container-id-1 div.sk-parallel-item:last-child::after {align-self: flex-start;width: 50%;}#sk-container-id-1 div.sk-parallel-item:only-child::after {width: 0;}#sk-container-id-1 div.sk-dashed-wrapped {border: 1px dashed gray;margin: 0 0.4em 0.5em 0.4em;box-sizing: border-box;padding-bottom: 0.4em;background-color: white;}#sk-container-id-1 div.sk-label label {font-family: monospace;font-weight: bold;display: inline-block;line-height: 1.2em;}#sk-container-id-1 div.sk-label-container {text-align: center;}#sk-container-id-1 div.sk-container {/* jupyter's `normalize.less` sets `[hidden] { display: none; }` but bootstrap.min.css set `[hidden] { display: none !important; }` so we also need the `!important` here to be able to override the default hidden behavior on the sphinx rendered scikit-learn.org. See: https://github.com/scikit-learn/scikit-learn/issues/21755 */display: inline-block !important;position: relative;}#sk-container-id-1 div.sk-text-repr-fallback {display: none;}</style><div id=\"sk-container-id-1\" class=\"sk-top-container\"><div class=\"sk-text-repr-fallback\"><pre>XGBClassifier(base_score=None, booster=None, callbacks=None,\n",
       "              colsample_bylevel=None, colsample_bynode=None,\n",
       "              colsample_bytree=None, device=None, early_stopping_rounds=None,\n",
       "              enable_categorical=False, eval_metric=None, feature_types=None,\n",
       "              gamma=None, grow_policy=None, importance_type=None,\n",
       "              interaction_constraints=None, learning_rate=None, max_bin=None,\n",
       "              max_cat_threshold=None, max_cat_to_onehot=None,\n",
       "              max_delta_step=None, max_depth=None, max_leaves=None,\n",
       "              min_child_weight=None, missing=nan, monotone_constraints=None,\n",
       "              multi_strategy=None, n_estimators=None, n_jobs=None,\n",
       "              num_parallel_tree=None, objective=&#x27;multi:softprob&#x27;, ...)</pre><b>In a Jupyter environment, please rerun this cell to show the HTML representation or trust the notebook. <br />On GitHub, the HTML representation is unable to render, please try loading this page with nbviewer.org.</b></div><div class=\"sk-container\" hidden><div class=\"sk-item\"><div class=\"sk-estimator sk-toggleable\"><input class=\"sk-toggleable__control sk-hidden--visually\" id=\"sk-estimator-id-1\" type=\"checkbox\" checked><label for=\"sk-estimator-id-1\" class=\"sk-toggleable__label sk-toggleable__label-arrow\">XGBClassifier</label><div class=\"sk-toggleable__content\"><pre>XGBClassifier(base_score=None, booster=None, callbacks=None,\n",
       "              colsample_bylevel=None, colsample_bynode=None,\n",
       "              colsample_bytree=None, device=None, early_stopping_rounds=None,\n",
       "              enable_categorical=False, eval_metric=None, feature_types=None,\n",
       "              gamma=None, grow_policy=None, importance_type=None,\n",
       "              interaction_constraints=None, learning_rate=None, max_bin=None,\n",
       "              max_cat_threshold=None, max_cat_to_onehot=None,\n",
       "              max_delta_step=None, max_depth=None, max_leaves=None,\n",
       "              min_child_weight=None, missing=nan, monotone_constraints=None,\n",
       "              multi_strategy=None, n_estimators=None, n_jobs=None,\n",
       "              num_parallel_tree=None, objective=&#x27;multi:softprob&#x27;, ...)</pre></div></div></div></div></div>"
      ],
      "text/plain": [
       "XGBClassifier(base_score=None, booster=None, callbacks=None,\n",
       "              colsample_bylevel=None, colsample_bynode=None,\n",
       "              colsample_bytree=None, device=None, early_stopping_rounds=None,\n",
       "              enable_categorical=False, eval_metric=None, feature_types=None,\n",
       "              gamma=None, grow_policy=None, importance_type=None,\n",
       "              interaction_constraints=None, learning_rate=None, max_bin=None,\n",
       "              max_cat_threshold=None, max_cat_to_onehot=None,\n",
       "              max_delta_step=None, max_depth=None, max_leaves=None,\n",
       "              min_child_weight=None, missing=nan, monotone_constraints=None,\n",
       "              multi_strategy=None, n_estimators=None, n_jobs=None,\n",
       "              num_parallel_tree=None, objective='multi:softprob', ...)"
      ]
     },
     "execution_count": 36,
     "metadata": {},
     "output_type": "execute_result"
    }
   ],
   "source": [
    "xgb_classifier = XGBClassifier()\n",
    "\n",
    "xgb_classifier.fit(X, y)"
   ]
  },
  {
   "cell_type": "code",
   "execution_count": 44,
   "metadata": {},
   "outputs": [],
   "source": [
    "from xgboost import XGBClassifier\n",
    "\n",
    "xgb_classifier = XGBClassifier(objective='multi:softmax', num_classes=12, eval_metric='mlogloss', random_state=42)\n",
    "\n",
    "param_grid = {\n",
    "    'learning_rate': [0.01, 0.1, 0.2],\n",
    "    'n_estimators': [50, 100, 200],\n",
    "    'max_depth': [3, 5, 7],\n",
    "    'subsample': [0.8, 1.0],\n",
    "    'colsample_bytree': [0.8, 1.0]\n",
    "}\n",
    "\n",
    "# Perform grid search using GridSearchCV\n",
    "grid_search = GridSearchCV(estimator=xgb_classifier, param_grid=param_grid, cv=4, scoring='accuracy', n_jobs=-1)\n",
    "grid_search.fit(X, y)\n",
    "\n",
    "# Print the best parameters and corresponding accuracy\n",
    "print(\"Best Parameters:\", grid_search.best_params_)\n",
    "print(\"Best Accuracy:\", grid_search.best_score_)"
   ]
  },
  {
   "cell_type": "code",
   "execution_count": 37,
   "metadata": {},
   "outputs": [
    {
     "data": {
      "text/plain": [
       "0.9999152795223238"
      ]
     },
     "execution_count": 37,
     "metadata": {},
     "output_type": "execute_result"
    }
   ],
   "source": [
    "accuracy_score(y, xgb_classifier.predict(X))"
   ]
  },
  {
   "cell_type": "code",
   "execution_count": 38,
   "metadata": {},
   "outputs": [],
   "source": [
    "predictions = xgb_classifier.predict(X_test)"
   ]
  },
  {
   "cell_type": "markdown",
   "metadata": {},
   "source": [
    "# submission"
   ]
  },
  {
   "cell_type": "code",
   "execution_count": 39,
   "metadata": {},
   "outputs": [],
   "source": [
    "sub = pd.DataFrame({\n",
    "    'Tracking': pd.read_csv('./data/test.csv')['Tracking'],\n",
    "    'dernier statut': encoder.inverse_transform(predictions)\n",
    "})\n",
    "\n",
    "sub.to_csv('submission.csv', index=False)"
   ]
  },
  {
   "cell_type": "code",
   "execution_count": 40,
   "metadata": {},
   "outputs": [
    {
     "data": {
      "text/plain": [
       "Livré                  59211\n",
       "Retourné au vendeur     8424\n",
       "Transfert                116\n",
       "Vers Wilaya               75\n",
       "Retour à retirer          36\n",
       "Expédié                    7\n",
       "Retour groupé              2\n",
       "Name: dernier statut, dtype: int64"
      ]
     },
     "execution_count": 40,
     "metadata": {},
     "output_type": "execute_result"
    }
   ],
   "source": [
    "sub['dernier statut'].value_counts()"
   ]
  }
 ],
 "metadata": {
  "kernelspec": {
   "display_name": "ai_env_py3_9",
   "language": "python",
   "name": "python3"
  },
  "language_info": {
   "codemirror_mode": {
    "name": "ipython",
    "version": 3
   },
   "file_extension": ".py",
   "mimetype": "text/x-python",
   "name": "python",
   "nbconvert_exporter": "python",
   "pygments_lexer": "ipython3",
   "version": "3.9.16"
  }
 },
 "nbformat": 4,
 "nbformat_minor": 2
}
